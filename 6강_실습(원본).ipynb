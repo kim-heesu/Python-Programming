{
  "nbformat": 4,
  "nbformat_minor": 0,
  "metadata": {
    "colab": {
      "provenance": [],
      "include_colab_link": true
    },
    "kernelspec": {
      "name": "python3",
      "display_name": "Python 3"
    },
    "language_info": {
      "name": "python"
    }
  },
  "cells": [
    {
      "cell_type": "markdown",
      "metadata": {
        "id": "view-in-github",
        "colab_type": "text"
      },
      "source": [
        "<a href=\"https://colab.research.google.com/github/kim-heesu/Python-Programming/blob/main/6%EA%B0%95_%EC%8B%A4%EC%8A%B5(%EC%9B%90%EB%B3%B8).ipynb\" target=\"_parent\"><img src=\"https://colab.research.google.com/assets/colab-badge.svg\" alt=\"Open In Colab\"/></a>"
      ]
    },
    {
      "cell_type": "markdown",
      "source": [
        "# 6장 1절"
      ],
      "metadata": {
        "id": "hckgpz65oDBv"
      }
    },
    {
      "cell_type": "code",
      "source": [
        "3==6"
      ],
      "metadata": {
        "colab": {
          "base_uri": "https://localhost:8080/"
        },
        "id": "SdWAVQnotBOO",
        "outputId": "125dd712-6bad-4e75-b6e3-df5e0a1e6da8"
      },
      "execution_count": 5,
      "outputs": [
        {
          "output_type": "execute_result",
          "data": {
            "text/plain": [
              "False"
            ]
          },
          "metadata": {},
          "execution_count": 5
        }
      ]
    },
    {
      "cell_type": "code",
      "source": [
        "suf=10\n",
        "vol=20\n",
        "isStop = suf == vol\n",
        "print(isStop)"
      ],
      "metadata": {
        "colab": {
          "base_uri": "https://localhost:8080/"
        },
        "id": "mKcjb9ecteom",
        "outputId": "8505e277-1948-4432-d9c1-15409beee908"
      },
      "execution_count": 11,
      "outputs": [
        {
          "output_type": "stream",
          "name": "stdout",
          "text": [
            "False\n"
          ]
        }
      ]
    },
    {
      "cell_type": "code",
      "source": [
        "temp = 20\n",
        "fruit = \"apple\"\n",
        "print(temp >= 27 and fruit == \"pear\")"
      ],
      "metadata": {
        "colab": {
          "base_uri": "https://localhost:8080/"
        },
        "id": "jaW8-uDjwG5K",
        "outputId": "30fba40f-220f-4d67-d8d3-f5bfb1bcb735"
      },
      "execution_count": 24,
      "outputs": [
        {
          "output_type": "stream",
          "name": "stdout",
          "text": [
            "False\n"
          ]
        }
      ]
    },
    {
      "cell_type": "code",
      "execution_count": 45,
      "metadata": {
        "id": "ZW1w8qQHoAm3",
        "colab": {
          "base_uri": "https://localhost:8080/"
        },
        "outputId": "2d40bcd8-dd86-46c0-8955-63f8c0d6d1c2"
      },
      "outputs": [
        {
          "output_type": "stream",
          "name": "stdout",
          "text": [
            "반지름을 입력하세요:3\n",
            "높이를 입력하세요:5\n",
            "원뿔의 부피는 47.1 입니다.\n",
            "원뿔의 겉넓이는 75.36 입니다\n"
          ]
        }
      ],
      "source": [
        "#반지름 사용자 입력\n",
        "errorTxt = \"입력한 값을 확인해주세요\"\n",
        "rad = int(input(\"반지름을 입력하세요:\"))\n",
        "\n",
        "if (rad > 0) :\n",
        "  #높이 사용자 입력\n",
        "  hei = int(input(\"높이를 입력하세요:\"))\n",
        "  if (hei > 0) :\n",
        "  #부피&겉넓이 계산\n",
        "    vol = 1/3 * 3.14 * rad ** 2 * hei\n",
        "    suf = 3.14 * rad ** 2 + 3.14 * rad * hei\n",
        "    print(\"원뿔의 부피는\" ,vol, \"입니다.\")\n",
        "    print(\"원뿔의 겉넓이는\" ,suf, \"입니다\")\n",
        "  else :\n",
        "    print(errorTxt)\n",
        "else :\n",
        "  print(errorTxt)"
      ]
    },
    {
      "cell_type": "markdown",
      "source": [],
      "metadata": {
        "id": "gIxdfGagpB53"
      }
    },
    {
      "cell_type": "markdown",
      "source": [
        "# 6강 2절"
      ],
      "metadata": {
        "id": "cquz2vj9oGml"
      }
    },
    {
      "cell_type": "markdown",
      "source": [
        "가장 큰 수 찾는 프로그램"
      ],
      "metadata": {
        "id": "_2ZlVieZpKuT"
      }
    },
    {
      "cell_type": "code",
      "source": [
        "textA = input(\"A를 입력하세요\")\n",
        "textB = input(\"B를 입력하세요\")\n",
        "textC = input(\"C를 입력하세요\")\n",
        "\n",
        "print(max(textA,textB,textC))"
      ],
      "metadata": {
        "id": "SuPkvKRSoJBE",
        "colab": {
          "base_uri": "https://localhost:8080/"
        },
        "outputId": "34230063-bde9-4dcc-ffbe-bc6b7eb77068"
      },
      "execution_count": 50,
      "outputs": [
        {
          "output_type": "stream",
          "name": "stdout",
          "text": [
            "A를 입력하세요2\n",
            "B를 입력하세요6\n",
            "C를 입력하세요98\n",
            "98\n"
          ]
        }
      ]
    },
    {
      "cell_type": "code",
      "source": [
        "textA = input(\"A를 입력하세요\")\n",
        "textB = input(\"B를 입력하세요\")\n",
        "textC = input(\"C를 입력하세요\")\n",
        "\n",
        "if textA > textB :\n",
        "    if textA > textC :\n",
        "        print(textA)\n",
        "    else :\n",
        "        print(textC)\n",
        "else :\n",
        "    if textB > textC :\n",
        "        print(textB)\n",
        "    else :\n",
        "        print(textC)"
      ],
      "metadata": {
        "id": "hSl8XeTZ1BzV",
        "outputId": "e9b2bba6-dfb8-48fa-c303-1e15362d1b9b",
        "colab": {
          "base_uri": "https://localhost:8080/"
        }
      },
      "execution_count": 53,
      "outputs": [
        {
          "output_type": "stream",
          "name": "stdout",
          "text": [
            "A를 입력하세요20\n",
            "B를 입력하세요489\n",
            "C를 입력하세요6869045\n",
            "6869045\n"
          ]
        }
      ]
    },
    {
      "cell_type": "code",
      "source": [
        "57"
      ],
      "metadata": {
        "id": "pT0CdHQqy9P6"
      },
      "execution_count": null,
      "outputs": []
    }
  ]
}