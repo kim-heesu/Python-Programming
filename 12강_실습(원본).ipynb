{
  "nbformat": 4,
  "nbformat_minor": 0,
  "metadata": {
    "colab": {
      "provenance": [],
      "include_colab_link": true
    },
    "kernelspec": {
      "name": "python3",
      "display_name": "Python 3"
    },
    "language_info": {
      "name": "python"
    }
  },
  "cells": [
    {
      "cell_type": "markdown",
      "metadata": {
        "id": "view-in-github",
        "colab_type": "text"
      },
      "source": [
        "<a href=\"https://colab.research.google.com/github/kim-heesu/Python-Programming/blob/main/12%EA%B0%95_%EC%8B%A4%EC%8A%B5(%EC%9B%90%EB%B3%B8).ipynb\" target=\"_parent\"><img src=\"https://colab.research.google.com/assets/colab-badge.svg\" alt=\"Open In Colab\"/></a>"
      ]
    },
    {
      "cell_type": "markdown",
      "source": [
        "# 12강 실습"
      ],
      "metadata": {
        "id": "gsIqze9Vyw5b"
      }
    },
    {
      "cell_type": "markdown",
      "source": [
        "**12강 1절**"
      ],
      "metadata": {
        "id": "bQcXLxROy7C_"
      }
    },
    {
      "cell_type": "markdown",
      "source": [
        "'Khan.txt' 파일을 읽고 처리하는 프로그램을 작성하시오."
      ],
      "metadata": {
        "id": "CMTsz70kzLeS"
      }
    },
    {
      "cell_type": "markdown",
      "source": [
        "**12강 2절**"
      ],
      "metadata": {
        "id": "550wwIWMy_Fn"
      }
    },
    {
      "cell_type": "markdown",
      "source": [
        "\"hamlet_by_Shakespeare.txt\" 파일에 포함된 단어와 각 단어의 출현 횟수를 출력하는 프로그램을 작성하시오"
      ],
      "metadata": {
        "id": "ul20N9_MzMGh"
      }
    },
    {
      "cell_type": "markdown",
      "source": [
        "'hamlet_by_Shakespeare.txt' 파일에 포함된 단어 중 출현한 횟수가 100 이상되는 단어와 출력 횟수를 출력하는 프로그램을 작성하시오\n"
      ],
      "metadata": {
        "id": "5ui2teFoHcsF"
      }
    },
    {
      "cell_type": "code",
      "source": [
        "from google.colab import drive\n",
        "drive.mount('/content/gdrive')"
      ],
      "metadata": {
        "id": "8hkroqVlX69s",
        "outputId": "b3d66d53-10eb-4627-8d88-5f66ef54c243",
        "colab": {
          "base_uri": "https://localhost:8080/"
        }
      },
      "execution_count": 20,
      "outputs": [
        {
          "output_type": "stream",
          "name": "stdout",
          "text": [
            "Mounted at /content/gdrive\n"
          ]
        }
      ]
    },
    {
      "cell_type": "code",
      "source": [
        "print(\"test\")"
      ],
      "metadata": {
        "id": "djiyEqYFCXyf",
        "outputId": "17ebcdde-4156-40aa-c1ce-3ff48bbe2b7f",
        "colab": {
          "base_uri": "https://localhost:8080/"
        }
      },
      "execution_count": 19,
      "outputs": [
        {
          "output_type": "stream",
          "name": "stdout",
          "text": [
            "test\n"
          ]
        }
      ]
    },
    {
      "cell_type": "code",
      "source": [
        "pwd"
      ],
      "metadata": {
        "id": "nCV5qDDoCkrt",
        "outputId": "7ac66a65-f6f6-47ba-de60-13da2ca97da5",
        "colab": {
          "base_uri": "https://localhost:8080/",
          "height": 36
        }
      },
      "execution_count": 25,
      "outputs": [
        {
          "output_type": "execute_result",
          "data": {
            "text/plain": [
              "'/content'"
            ],
            "application/vnd.google.colaboratory.intrinsic+json": {
              "type": "string"
            }
          },
          "metadata": {},
          "execution_count": 25
        }
      ]
    },
    {
      "cell_type": "code",
      "source": [
        "# 첫 번째 줄 읽어오는 방법\n",
        "file = open(\"/content/Khan.txt\", \"r\")\n",
        "firstLine = file.readlines()\n",
        "print(firstLine)\n",
        "print\n",
        "file.close()"
      ],
      "metadata": {
        "id": "P14xs0w7EfOX",
        "outputId": "2ab55542-f297-41f0-9afd-d3435cf38e90",
        "colab": {
          "base_uri": "https://localhost:8080/"
        }
      },
      "execution_count": 53,
      "outputs": [
        {
          "output_type": "stream",
          "name": "stdout",
          "text": [
            "[]\n",
            "ddd\n"
          ]
        }
      ]
    },
    {
      "cell_type": "code",
      "source": [
        "/content/Khan.txt"
      ],
      "metadata": {
        "id": "n_VLRZa7FJSM"
      },
      "execution_count": null,
      "outputs": []
    }
  ]
}