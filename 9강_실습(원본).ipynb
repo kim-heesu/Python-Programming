{
  "nbformat": 4,
  "nbformat_minor": 0,
  "metadata": {
    "colab": {
      "provenance": [],
      "include_colab_link": true
    },
    "kernelspec": {
      "name": "python3",
      "display_name": "Python 3"
    },
    "language_info": {
      "name": "python"
    }
  },
  "cells": [
    {
      "cell_type": "markdown",
      "metadata": {
        "id": "view-in-github",
        "colab_type": "text"
      },
      "source": [
        "<a href=\"https://colab.research.google.com/github/kim-heesu/Python-Programming/blob/main/9%EA%B0%95_%EC%8B%A4%EC%8A%B5(%EC%9B%90%EB%B3%B8).ipynb\" target=\"_parent\"><img src=\"https://colab.research.google.com/assets/colab-badge.svg\" alt=\"Open In Colab\"/></a>"
      ]
    },
    {
      "cell_type": "markdown",
      "source": [
        "# 9강 1절"
      ],
      "metadata": {
        "id": "CAj_VKRq4Mhy"
      }
    },
    {
      "cell_type": "markdown",
      "source": [
        "**원뿔 부피 계산 함수 정의**"
      ],
      "metadata": {
        "id": "-0FrgkDm_YRK"
      }
    },
    {
      "cell_type": "code",
      "execution_count": null,
      "metadata": {
        "id": "OhGWjvMSf_uP"
      },
      "outputs": [],
      "source": [
        "def testFunction(r,h) :\n",
        "    if r > 0 and h > 0 :\n",
        "        # r, h 모두 양수일 때\n",
        "        vol = 1/3 * 3.14 * r ** 2 * h\n",
        "        print(\"원뿔의 부피는\", vol, \"입니다.\")\n",
        "    else :\n",
        "        # r, h가 음수일 때\n",
        "        print(\"반지름과 높이 값에 양수를 입력하세요\")\n",
        "\n",
        "\n"
      ]
    },
    {
      "cell_type": "markdown",
      "source": [
        "**원뿔 부피 계산 함수 호출**"
      ],
      "metadata": {
        "id": "ygj-h_dt_elG"
      }
    },
    {
      "cell_type": "code",
      "source": [
        "rad = 10\n",
        "hei = 30\n",
        "testFunction(rad,hei)"
      ],
      "metadata": {
        "id": "Kgl7g457gFnj",
        "outputId": "9ba23e69-2c66-40a3-96fd-fa6f0f5675c0",
        "colab": {
          "base_uri": "https://localhost:8080/"
        }
      },
      "execution_count": null,
      "outputs": [
        {
          "output_type": "stream",
          "name": "stdout",
          "text": [
            "원뿔의 부피는 3139.9999999999995 입니다.\n"
          ]
        }
      ]
    },
    {
      "cell_type": "markdown",
      "source": [
        "**숫자를 입력받고 역순으로 출력하는 함수를 사용한 프로그램 문제**"
      ],
      "metadata": {
        "id": "3T0GpqYK_jXA"
      }
    },
    {
      "cell_type": "code",
      "source": [
        "def reversNumber (num) :\n",
        "    while num != 0 :\n",
        "        digit = num % 10\n",
        "        num = num // 10\n",
        "        print(digit,end=\"\")\n",
        "\n",
        "number = int(input(\"숫자를입력하세요\"))\n",
        "reversNumber(number)"
      ],
      "metadata": {
        "id": "nsHHCmKB_pnQ",
        "outputId": "e4339f62-bbe1-4611-938e-395cffb76ed9",
        "colab": {
          "base_uri": "https://localhost:8080/"
        }
      },
      "execution_count": null,
      "outputs": [
        {
          "output_type": "stream",
          "name": "stdout",
          "text": [
            "숫자를입력하세요3849082390849023\n",
            "3209480932809483"
          ]
        }
      ]
    },
    {
      "cell_type": "markdown",
      "source": [
        "# 9강 2절"
      ],
      "metadata": {
        "id": "bw1IBTsp4wMv"
      }
    },
    {
      "cell_type": "markdown",
      "source": [
        "**원뿔 부피 계산 결과 반환 함수 정의**"
      ],
      "metadata": {
        "id": "454aKvSdAI2a"
      }
    },
    {
      "cell_type": "code",
      "source": [
        "def testFunction(r,h) :\n",
        "    if r > 0 and h > 0 :\n",
        "        # r, h 모두 양수일 때\n",
        "        vol = 1/3 * 3.14 * r ** 2 * h\n",
        "        surf = 3.14 * r ** 2 + 3.14 * r * h\n",
        "        return vol,surf\n",
        "    else :\n",
        "        # r, h가 음수일 때\n",
        "        print(\"반지름과 높이 값에 양수를 입력하세요\")\n",
        "\n",
        "vod1, surf1 = testFunction(10,399)\n",
        "print(vod1)\n",
        "print(surf1)"
      ],
      "metadata": {
        "id": "X8lfqqRBAQfV",
        "outputId": "edf5e843-63e2-4025-c856-442c54c83f8b",
        "colab": {
          "base_uri": "https://localhost:8080/"
        }
      },
      "execution_count": 30,
      "outputs": [
        {
          "output_type": "stream",
          "name": "stdout",
          "text": [
            "41761.99999999999\n",
            "12842.6\n"
          ]
        }
      ]
    },
    {
      "cell_type": "markdown",
      "source": [
        "**원뿔 부피 및 겉넓이 반환 함수 정의**"
      ],
      "metadata": {
        "id": "Ae2D5Cal_szh"
      }
    },
    {
      "cell_type": "code",
      "source": [
        "radTest,heiTest = int(input(\"반지름\")),int(input(\"부피\"))\n",
        "vod1, surf1 =  testFunction(radTest,heiTest)\n",
        "\n",
        "print(format(vod1,\">20.4f\")) ## > 방향으로 정렬 20만큼 . 4번째자리 실수\n",
        "print(format(surf1,\"<30.6f\")) ## < 방향으로 정렬 30만큼 . 6번째자리 실수"
      ],
      "metadata": {
        "id": "cwZ6g1au45RD",
        "outputId": "d8a99cb2-13c0-439b-d78b-31a35b5751c4",
        "colab": {
          "base_uri": "https://localhost:8080/"
        }
      },
      "execution_count": 50,
      "outputs": [
        {
          "output_type": "stream",
          "name": "stdout",
          "text": [
            "반지름234789\n",
            "부피549\n",
            " 31676430017257.0195\n",
            "173499989361.480011           \n"
          ]
        }
      ]
    },
    {
      "cell_type": "markdown",
      "source": [
        "**세 개의 사용자 입력을 오름차순으로 정렬하는 함수를 이용하여 정렬된 값을 출력하는 문제**\n"
      ],
      "metadata": {
        "id": "0FMNpd_4Ah9j"
      }
    },
    {
      "cell_type": "code",
      "source": [
        "a = int(input(\"첫번째 숫자를 입력하세요: \"))\n",
        "b = int(input(\"두번째 숫자를 입력하세요: \"))\n",
        "c = int(input(\"세번째 숫자를 입력하세요: \"))\n",
        "\n",
        "def sort3(a, b, c) :\n",
        "    if a > b :\n",
        "        a , b = b, a\n",
        "    if a > c :\n",
        "        a , c = c, a\n",
        "    if b > c :\n",
        "        b , c =  c , b\n",
        "    print(a,b,c)\n",
        "\n",
        "sort3(a,b,c)\n",
        "\n",
        "print('함수내에서 교환이 일어나도 변수의 값은 변하지 않는다',a,b,c)"
      ],
      "metadata": {
        "id": "toh-zjeLArWn",
        "outputId": "eeff52d3-2196-41c1-bb82-0c9a0807cad3",
        "colab": {
          "base_uri": "https://localhost:8080/"
        }
      },
      "execution_count": 39,
      "outputs": [
        {
          "output_type": "stream",
          "name": "stdout",
          "text": [
            "첫번째 숫자를 입력하세요: 345\n",
            "두번째 숫자를 입력하세요: 425890\n",
            "세번째 숫자를 입력하세요: 2\n",
            "2 345 425890\n",
            "함수내에서 교환이 일어나도 변수의 값은 변하지 않는다 345 425890 2\n"
          ]
        }
      ]
    },
    {
      "cell_type": "markdown",
      "source": [
        "# 9강 3절"
      ],
      "metadata": {
        "id": "7qOMFABd4y1t"
      }
    },
    {
      "cell_type": "markdown",
      "source": [
        "**값의 전달**"
      ],
      "metadata": {
        "id": "pVwxXsFLBCY-"
      }
    },
    {
      "cell_type": "code",
      "source": [
        "rad11 = 20\n",
        "hei11 = 40\n",
        "\n",
        "# 값의 교환을 파이썬에서는 아래와같이처리한다\n",
        "rad11,hei11 = hei11,rad11\n",
        "\n",
        "print(rad11,hei11,sep=\"*\")"
      ],
      "metadata": {
        "id": "cwoR_CQp45ti",
        "outputId": "c184eb9a-b516-475d-f35d-021eab6bf895",
        "colab": {
          "base_uri": "https://localhost:8080/"
        }
      },
      "execution_count": 51,
      "outputs": [
        {
          "output_type": "stream",
          "name": "stdout",
          "text": [
            "40*20\n"
          ]
        }
      ]
    },
    {
      "cell_type": "markdown",
      "source": [],
      "metadata": {
        "id": "WM2EP5DHB_cN"
      }
    },
    {
      "cell_type": "markdown",
      "source": [
        "**변수의 스코프**"
      ],
      "metadata": {
        "id": "Wybq2K3yBJ8C"
      }
    },
    {
      "cell_type": "code",
      "source": [
        "x=1\n",
        "print('초기 x?',x)\n",
        "\n",
        "def inc(x) :\n",
        "    x += 1\n",
        "    print('함수내 x?',x)\n",
        "\n",
        "inc(x)\n",
        "\n",
        "print('함수 밖x?',x)"
      ],
      "metadata": {
        "id": "6ZuNFN9BBWKR",
        "outputId": "f9c17603-88cf-4c15-acf9-adfee1a387d9",
        "colab": {
          "base_uri": "https://localhost:8080/"
        }
      },
      "execution_count": 56,
      "outputs": [
        {
          "output_type": "stream",
          "name": "stdout",
          "text": [
            "초기 x? 1\n",
            "함수내 x? 2\n",
            "함수 밖x? 1\n"
          ]
        }
      ]
    },
    {
      "cell_type": "markdown",
      "source": [
        "**단위 원뿔(반지름 20, 높이 30)의 부피와 겉넓이를 출력하는 문제**"
      ],
      "metadata": {
        "id": "YDpFj9zqBL35"
      }
    },
    {
      "cell_type": "code",
      "source": [
        "##가변매개변수\n",
        "\n",
        "# 원뿔 계산 함수 정의\n",
        "def prt_cone_vol_surf(r = 20, h=40) :\n",
        "    if r > 0 and h > 0 :\n",
        "        # r, h 모두 양수일 때\n",
        "        vol = 1/3 * 3.14 * r ** 2 * h\n",
        "        suf = 3.14 * r ** 2 + 3.14 * r * h\n",
        "        return vol, suf\n",
        "    else :\n",
        "        # r, h가 음수일 때\n",
        "        print(\"반지름과 높이 값에 양수를 입력하세요\")\n",
        "\n",
        "print(prt_cone_vol_surf()) ## 기본으로 지정된 r = 20 . h = 40으로계산\n",
        "print(prt_cone_vol_surf(34234,534534))"
      ],
      "metadata": {
        "id": "mzWTObQdBXHc",
        "outputId": "8d83de0a-21ba-4e88-ca60-625650676d69",
        "colab": {
          "base_uri": "https://localhost:8080/"
        }
      },
      "execution_count": 62,
      "outputs": [
        {
          "output_type": "stream",
          "name": "stdout",
          "text": [
            "(16746.666666666664, 3768.0)\n",
            "(655690694922783.5, 61139579655.68001)\n"
          ]
        }
      ]
    },
    {
      "cell_type": "markdown",
      "source": [
        "**여러개의 수를 입력받고 합과 평균을 반환하는는 var_sum_avg 함수를 사용하여, (20, 25, 10, 85, 100, 150)에 대한 합과 평균을 출력하는 프로그램을 작성하시오.**\n"
      ],
      "metadata": {
        "id": "WqqJAJ0ACOjj"
      }
    },
    {
      "cell_type": "code",
      "source": [
        "def var_sum_avg(*numbers) :\n",
        "    sum = 0\n",
        "    count = 0\n",
        "\n",
        "    for i in numbers :\n",
        "        sum += i\n",
        "        count += 1\n",
        "    return sum , sum/count\n",
        "\n",
        "\n",
        "print(var_sum_avg(39,30,589))"
      ],
      "metadata": {
        "id": "GDZkR-SKCVth",
        "outputId": "7af635b5-ca68-4bac-92c4-f1753a7f2a84",
        "colab": {
          "base_uri": "https://localhost:8080/"
        }
      },
      "execution_count": 72,
      "outputs": [
        {
          "output_type": "stream",
          "name": "stdout",
          "text": [
            "(658, 219.33333333333334)\n"
          ]
        }
      ]
    }
  ]
}